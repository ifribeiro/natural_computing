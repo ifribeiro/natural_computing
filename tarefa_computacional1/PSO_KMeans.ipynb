{
 "cells": [
  {
   "cell_type": "markdown",
   "metadata": {},
   "source": [
    "# Clusterização de dados utilizando PSO e KMeans\n",
    "\n",
    "**Aluno**: Iran Freitas Ribeiro\n",
    "\n",
    "**Matrícula**: 2021241588\n",
    "\n",
    "**Disciplina**: Computação Natural\n",
    "\n",
    "**Professor**: Renato Antonio Kroling\n",
    "\n",
    "Código adaptado de https://github.com/dandynaufaldi/particle-swarm-optimized-clustering"
   ]
  },
  {
   "cell_type": "code",
   "execution_count": 1,
   "metadata": {},
   "outputs": [],
   "source": [
    "import pandas as pd\n",
    "import numpy as np\n",
    "import matplotlib.pyplot as plt\n",
    "from sklearn import datasets\n",
    "from sklearn.cluster import KMeans\n",
    "%matplotlib inline"
   ]
  },
  {
   "cell_type": "code",
   "execution_count": 2,
   "metadata": {},
   "outputs": [],
   "source": [
    "data_iris = datasets.load_iris(as_frame=True)"
   ]
  },
  {
   "cell_type": "code",
   "execution_count": 3,
   "metadata": {},
   "outputs": [],
   "source": [
    "iris_names = data_iris.target_names\n",
    "data = data_iris.data"
   ]
  },
  {
   "cell_type": "markdown",
   "metadata": {},
   "source": [
    "**5 primeiras linhas do dataset**"
   ]
  },
  {
   "cell_type": "code",
   "execution_count": 4,
   "metadata": {},
   "outputs": [
    {
     "data": {
      "text/html": [
       "<div>\n",
       "<style scoped>\n",
       "    .dataframe tbody tr th:only-of-type {\n",
       "        vertical-align: middle;\n",
       "    }\n",
       "\n",
       "    .dataframe tbody tr th {\n",
       "        vertical-align: top;\n",
       "    }\n",
       "\n",
       "    .dataframe thead th {\n",
       "        text-align: right;\n",
       "    }\n",
       "</style>\n",
       "<table border=\"1\" class=\"dataframe\">\n",
       "  <thead>\n",
       "    <tr style=\"text-align: right;\">\n",
       "      <th></th>\n",
       "      <th>sepal length (cm)</th>\n",
       "      <th>sepal width (cm)</th>\n",
       "      <th>petal length (cm)</th>\n",
       "      <th>petal width (cm)</th>\n",
       "    </tr>\n",
       "  </thead>\n",
       "  <tbody>\n",
       "    <tr>\n",
       "      <th>0</th>\n",
       "      <td>5.1</td>\n",
       "      <td>3.5</td>\n",
       "      <td>1.4</td>\n",
       "      <td>0.2</td>\n",
       "    </tr>\n",
       "    <tr>\n",
       "      <th>1</th>\n",
       "      <td>4.9</td>\n",
       "      <td>3.0</td>\n",
       "      <td>1.4</td>\n",
       "      <td>0.2</td>\n",
       "    </tr>\n",
       "    <tr>\n",
       "      <th>2</th>\n",
       "      <td>4.7</td>\n",
       "      <td>3.2</td>\n",
       "      <td>1.3</td>\n",
       "      <td>0.2</td>\n",
       "    </tr>\n",
       "    <tr>\n",
       "      <th>3</th>\n",
       "      <td>4.6</td>\n",
       "      <td>3.1</td>\n",
       "      <td>1.5</td>\n",
       "      <td>0.2</td>\n",
       "    </tr>\n",
       "    <tr>\n",
       "      <th>4</th>\n",
       "      <td>5.0</td>\n",
       "      <td>3.6</td>\n",
       "      <td>1.4</td>\n",
       "      <td>0.2</td>\n",
       "    </tr>\n",
       "  </tbody>\n",
       "</table>\n",
       "</div>"
      ],
      "text/plain": [
       "   sepal length (cm)  sepal width (cm)  petal length (cm)  petal width (cm)\n",
       "0                5.1               3.5                1.4               0.2\n",
       "1                4.9               3.0                1.4               0.2\n",
       "2                4.7               3.2                1.3               0.2\n",
       "3                4.6               3.1                1.5               0.2\n",
       "4                5.0               3.6                1.4               0.2"
      ]
     },
     "execution_count": 4,
     "metadata": {},
     "output_type": "execute_result"
    }
   ],
   "source": [
    "data.head()"
   ]
  },
  {
   "cell_type": "code",
   "execution_count": 5,
   "metadata": {},
   "outputs": [],
   "source": [
    "x = data.iloc[:, [0, 1, 2, 3]].values"
   ]
  },
  {
   "cell_type": "code",
   "execution_count": 6,
   "metadata": {},
   "outputs": [],
   "source": [
    "from pso import ParticleSwarmOptimizedClustering"
   ]
  },
  {
   "cell_type": "markdown",
   "metadata": {},
   "source": [
    " "
   ]
  },
  {
   "cell_type": "markdown",
   "metadata": {},
   "source": [
    "### Execução do algorítimo"
   ]
  },
  {
   "cell_type": "code",
   "execution_count": 7,
   "metadata": {},
   "outputs": [
    {
     "name": "stdout",
     "output_type": "stream",
     "text": [
      "Initial global best score 0.6465653848597094\n",
      "Iteration 0001/0002 current gbest score 0.646565384859709380\n",
      "Finish with gbest score 0.646565384859709380\n",
      "Initial global best score 0.6465653848597094\n",
      "Iteration 0001/0002 current gbest score 0.646565384859709380\n",
      "Finish with gbest score 0.646565384859709380\n",
      "Initial global best score 0.6465653848597095\n",
      "Iteration 0001/0002 current gbest score 0.646565384859709491\n",
      "Finish with gbest score 0.646565384859709491\n"
     ]
    },
    {
     "name": "stderr",
     "output_type": "stream",
     "text": [
      "/home/iran/Documentos/code/cloned_repos/particle-swarm-optimized-clustering/pso_kmeans/particle.py:15: RuntimeWarning: invalid value encountered in double_scalars\n",
      "  dist /= len(idx)\n"
     ]
    },
    {
     "name": "stdout",
     "output_type": "stream",
     "text": [
      "Initial global best score 0.6465653848597094\n",
      "Iteration 0001/0002 current gbest score 0.646565384859709380\n",
      "Finish with gbest score 0.646565384859709380\n",
      "Initial global best score 0.6465653848597094\n",
      "Iteration 0001/0002 current gbest score 0.646565384859709380\n",
      "Finish with gbest score 0.646565384859709380\n"
     ]
    },
    {
     "name": "stderr",
     "output_type": "stream",
     "text": [
      "/home/iran/Documentos/code/cloned_repos/particle-swarm-optimized-clustering/pso_kmeans/particle.py:15: RuntimeWarning: invalid value encountered in double_scalars\n",
      "  dist /= len(idx)\n"
     ]
    },
    {
     "name": "stdout",
     "output_type": "stream",
     "text": [
      "Initial global best score 0.6465653848597094\n",
      "Iteration 0001/0002 current gbest score 0.646565384859709380\n",
      "Finish with gbest score 0.646565384859709380\n",
      "Initial global best score 0.6465653848597095\n",
      "Iteration 0001/0002 current gbest score 0.646565384859709491\n",
      "Finish with gbest score 0.646565384859709491\n",
      "Initial global best score 0.6465653848597094\n",
      "Iteration 0001/0002 current gbest score 0.646565384859709380\n",
      "Finish with gbest score 0.646565384859709380\n",
      "Initial global best score 0.6465653848597094\n",
      "Iteration 0001/0002 current gbest score 0.646565384859709380\n",
      "Finish with gbest score 0.646565384859709380\n"
     ]
    },
    {
     "name": "stderr",
     "output_type": "stream",
     "text": [
      "/home/iran/Documentos/code/cloned_repos/particle-swarm-optimized-clustering/pso_kmeans/particle.py:15: RuntimeWarning: invalid value encountered in double_scalars\n",
      "  dist /= len(idx)\n",
      "/home/iran/Documentos/code/cloned_repos/particle-swarm-optimized-clustering/pso_kmeans/particle.py:15: RuntimeWarning: invalid value encountered in double_scalars\n",
      "  dist /= len(idx)\n"
     ]
    },
    {
     "name": "stdout",
     "output_type": "stream",
     "text": [
      "Initial global best score 0.6465653848597094\n",
      "Iteration 0001/0002 current gbest score 0.646565384859709380\n",
      "Finish with gbest score 0.646565384859709380\n",
      "Initial global best score 0.6465653848597095\n",
      "Iteration 0001/0002 current gbest score 0.646565384859709491\n"
     ]
    },
    {
     "name": "stderr",
     "output_type": "stream",
     "text": [
      "/home/iran/Documentos/code/cloned_repos/particle-swarm-optimized-clustering/pso_kmeans/particle.py:15: RuntimeWarning: invalid value encountered in double_scalars\n",
      "  dist /= len(idx)\n"
     ]
    },
    {
     "name": "stdout",
     "output_type": "stream",
     "text": [
      "Finish with gbest score 0.646565384859709491\n",
      "Initial global best score 0.6465653848597094\n",
      "Iteration 0001/0002 current gbest score 0.643604648498896759\n",
      "Finish with gbest score 0.643604648498896759\n",
      "Initial global best score 0.6465653848597094\n",
      "Iteration 0001/0002 current gbest score 0.646565384859709380\n",
      "Finish with gbest score 0.646565384859709380\n",
      "Initial global best score 0.6465653848597094\n",
      "Iteration 0001/0002 current gbest score 0.646565384859709380\n",
      "Finish with gbest score 0.646565384859709380\n",
      "Initial global best score 0.6465653848597095\n",
      "Iteration 0001/0002 current gbest score 0.646565384859709491\n",
      "Finish with gbest score 0.646565384859709491\n",
      "Initial global best score 0.6465653848597095\n",
      "Iteration 0001/0002 current gbest score 0.646565384859709491\n",
      "Finish with gbest score 0.646565384859709491\n",
      "Initial global best score 0.6465653848597094\n",
      "Iteration 0001/0002 current gbest score 0.646565384859709380\n",
      "Finish with gbest score 0.646565384859709380\n",
      "Initial global best score 0.6465653848597094\n",
      "Iteration 0001/0002 current gbest score 0.646565384859709380\n",
      "Finish with gbest score 0.646565384859709380\n",
      "Initial global best score 0.6465653848597094\n",
      "Iteration 0001/0002 current gbest score 0.646565384859709380\n",
      "Finish with gbest score 0.646565384859709380\n",
      "Initial global best score 0.6465653848597095\n",
      "Iteration 0001/0002 current gbest score 0.646565384859709491\n",
      "Finish with gbest score 0.646565384859709491\n",
      "Initial global best score 0.6465653848597094\n",
      "Iteration 0001/0002 current gbest score 0.646565384859709380\n",
      "Finish with gbest score 0.646565384859709380\n",
      "Initial global best score 0.6465653848597095\n",
      "Iteration 0001/0002 current gbest score 0.646565384859709491\n",
      "Finish with gbest score 0.646565384859709491\n"
     ]
    },
    {
     "name": "stderr",
     "output_type": "stream",
     "text": [
      "/home/iran/Documentos/code/cloned_repos/particle-swarm-optimized-clustering/pso_kmeans/particle.py:15: RuntimeWarning: invalid value encountered in double_scalars\n",
      "  dist /= len(idx)\n",
      "/home/iran/Documentos/code/cloned_repos/particle-swarm-optimized-clustering/pso_kmeans/particle.py:15: RuntimeWarning: invalid value encountered in double_scalars\n",
      "  dist /= len(idx)\n"
     ]
    },
    {
     "name": "stdout",
     "output_type": "stream",
     "text": [
      "Initial global best score 0.6465653848597094\n",
      "Iteration 0001/0002 current gbest score 0.646565384859709380\n",
      "Finish with gbest score 0.646565384859709380\n",
      "Initial global best score 0.6465653848597094\n",
      "Iteration 0001/0002 current gbest score 0.646565384859709380\n",
      "Finish with gbest score 0.646565384859709380\n"
     ]
    },
    {
     "name": "stderr",
     "output_type": "stream",
     "text": [
      "/home/iran/Documentos/code/cloned_repos/particle-swarm-optimized-clustering/pso_kmeans/particle.py:15: RuntimeWarning: invalid value encountered in double_scalars\n",
      "  dist /= len(idx)\n"
     ]
    },
    {
     "name": "stdout",
     "output_type": "stream",
     "text": [
      "Initial global best score 0.6465653848597094\n",
      "Iteration 0001/0002 current gbest score 0.646565384859709380\n",
      "Finish with gbest score 0.646565384859709380\n",
      "Initial global best score 0.6465653848597094\n",
      "Iteration 0001/0002 current gbest score 0.646565384859709380\n",
      "Finish with gbest score 0.646565384859709380\n"
     ]
    },
    {
     "name": "stderr",
     "output_type": "stream",
     "text": [
      "/home/iran/Documentos/code/cloned_repos/particle-swarm-optimized-clustering/pso_kmeans/particle.py:15: RuntimeWarning: invalid value encountered in double_scalars\n",
      "  dist /= len(idx)\n"
     ]
    },
    {
     "name": "stdout",
     "output_type": "stream",
     "text": [
      "Initial global best score 0.6465653848597094\n",
      "Iteration 0001/0002 current gbest score 0.646565384859709380\n",
      "Finish with gbest score 0.646565384859709380\n",
      "Initial global best score 0.6465653848597094\n",
      "Iteration 0001/0002 current gbest score 0.646565384859709380\n",
      "Finish with gbest score 0.646565384859709380\n"
     ]
    },
    {
     "name": "stderr",
     "output_type": "stream",
     "text": [
      "/home/iran/Documentos/code/cloned_repos/particle-swarm-optimized-clustering/pso_kmeans/particle.py:15: RuntimeWarning: invalid value encountered in double_scalars\n",
      "  dist /= len(idx)\n"
     ]
    },
    {
     "name": "stdout",
     "output_type": "stream",
     "text": [
      "Initial global best score 0.6465653848597094\n",
      "Iteration 0001/0002 current gbest score 0.646565384859709380\n",
      "Finish with gbest score 0.646565384859709380\n",
      "Initial global best score 0.6465653848597094\n",
      "Iteration 0001/0002 current gbest score 0.646565384859709380\n",
      "Finish with gbest score 0.646565384859709380\n"
     ]
    },
    {
     "name": "stderr",
     "output_type": "stream",
     "text": [
      "/home/iran/Documentos/code/cloned_repos/particle-swarm-optimized-clustering/pso_kmeans/particle.py:15: RuntimeWarning: invalid value encountered in double_scalars\n",
      "  dist /= len(idx)\n",
      "/home/iran/Documentos/code/cloned_repos/particle-swarm-optimized-clustering/pso_kmeans/particle.py:15: RuntimeWarning: invalid value encountered in double_scalars\n",
      "  dist /= len(idx)\n"
     ]
    },
    {
     "name": "stdout",
     "output_type": "stream",
     "text": [
      "Initial global best score 0.6465653848597095\n",
      "Iteration 0001/0002 current gbest score 0.646565384859709491\n",
      "Finish with gbest score 0.646565384859709491\n",
      "Initial global best score 0.6465653848597094\n",
      "Iteration 0001/0002 current gbest score 0.646565384859709380\n",
      "Finish with gbest score 0.646565384859709380\n",
      "Initial global best score 0.6465653848597094\n",
      "Iteration 0001/0002 current gbest score 0.646565384859709380\n",
      "Finish with gbest score 0.646565384859709380\n"
     ]
    },
    {
     "name": "stderr",
     "output_type": "stream",
     "text": [
      "/home/iran/Documentos/code/cloned_repos/particle-swarm-optimized-clustering/pso_kmeans/particle.py:15: RuntimeWarning: invalid value encountered in double_scalars\n",
      "  dist /= len(idx)\n"
     ]
    },
    {
     "name": "stdout",
     "output_type": "stream",
     "text": [
      "Initial global best score 0.6465653848597094\n",
      "Iteration 0001/0002 current gbest score 0.646565384859709380\n",
      "Finish with gbest score 0.646565384859709380\n",
      "Initial global best score 0.6465653848597095\n",
      "Iteration 0001/0002 current gbest score 0.646565384859709491\n",
      "Finish with gbest score 0.646565384859709491\n",
      "Initial global best score 0.6465653848597094\n",
      "Iteration 0001/0002 current gbest score 0.646565384859709380\n",
      "Finish with gbest score 0.646565384859709380\n"
     ]
    },
    {
     "name": "stderr",
     "output_type": "stream",
     "text": [
      "/home/iran/Documentos/code/cloned_repos/particle-swarm-optimized-clustering/pso_kmeans/particle.py:15: RuntimeWarning: invalid value encountered in double_scalars\n",
      "  dist /= len(idx)\n"
     ]
    },
    {
     "name": "stdout",
     "output_type": "stream",
     "text": [
      "Initial global best score 0.6465653848597095\n",
      "Iteration 0001/0002 current gbest score 0.646565384859709491\n",
      "Finish with gbest score 0.646565384859709491\n",
      "Initial global best score 0.6465653848597095\n",
      "Iteration 0001/0002 current gbest score 0.646565384859709491\n",
      "Finish with gbest score 0.646565384859709491\n",
      "Initial global best score 0.6465653848597094\n",
      "Iteration 0001/0002 current gbest score 0.646565384859709380\n"
     ]
    },
    {
     "name": "stderr",
     "output_type": "stream",
     "text": [
      "/home/iran/Documentos/code/cloned_repos/particle-swarm-optimized-clustering/pso_kmeans/particle.py:15: RuntimeWarning: invalid value encountered in double_scalars\n",
      "  dist /= len(idx)\n"
     ]
    },
    {
     "name": "stdout",
     "output_type": "stream",
     "text": [
      "Finish with gbest score 0.646565384859709380\n",
      "Initial global best score 0.6465653848597094\n",
      "Iteration 0001/0002 current gbest score 0.646565384859709380\n",
      "Finish with gbest score 0.646565384859709380\n",
      "Initial global best score 0.6465653848597094\n",
      "Iteration 0001/0002 current gbest score 0.646565384859709380\n",
      "Finish with gbest score 0.646565384859709380\n",
      "Initial global best score 0.6465653848597094\n",
      "Iteration 0001/0002 current gbest score 0.646565384859709380\n",
      "Finish with gbest score 0.646565384859709380\n",
      "Initial global best score 0.6465653848597094\n",
      "Iteration 0001/0002 current gbest score 0.646565384859709380\n",
      "Finish with gbest score 0.646565384859709380\n",
      "Initial global best score 0.6465653848597094\n",
      "Iteration 0001/0002 current gbest score 0.646565384859709380\n",
      "Finish with gbest score 0.646565384859709380\n",
      "Initial global best score 0.6465653848597095\n",
      "Iteration 0001/0002 current gbest score 0.646565384859709491\n",
      "Finish with gbest score 0.646565384859709491\n"
     ]
    },
    {
     "name": "stderr",
     "output_type": "stream",
     "text": [
      "/home/iran/Documentos/code/cloned_repos/particle-swarm-optimized-clustering/pso_kmeans/particle.py:15: RuntimeWarning: invalid value encountered in double_scalars\n",
      "  dist /= len(idx)\n"
     ]
    },
    {
     "name": "stdout",
     "output_type": "stream",
     "text": [
      "Initial global best score 0.6465653848597095\n",
      "Iteration 0001/0002 current gbest score 0.646565384859709491\n",
      "Finish with gbest score 0.646565384859709491\n",
      "Initial global best score 0.6465653848597094\n",
      "Iteration 0001/0002 current gbest score 0.646565384859709380\n",
      "Finish with gbest score 0.646565384859709380\n",
      "Initial global best score 0.6465653848597094\n",
      "Iteration 0001/0002 current gbest score 0.646565384859709380\n",
      "Finish with gbest score 0.646565384859709380\n",
      "Initial global best score 0.6465653848597094\n",
      "Iteration 0001/0002 current gbest score 0.646565384859709380\n",
      "Finish with gbest score 0.646565384859709380\n"
     ]
    },
    {
     "name": "stderr",
     "output_type": "stream",
     "text": [
      "/home/iran/Documentos/code/cloned_repos/particle-swarm-optimized-clustering/pso_kmeans/particle.py:15: RuntimeWarning: invalid value encountered in double_scalars\n",
      "  dist /= len(idx)\n",
      "/home/iran/Documentos/code/cloned_repos/particle-swarm-optimized-clustering/pso_kmeans/particle.py:15: RuntimeWarning: invalid value encountered in double_scalars\n",
      "  dist /= len(idx)\n"
     ]
    },
    {
     "name": "stdout",
     "output_type": "stream",
     "text": [
      "Initial global best score 0.6465653848597094\n",
      "Iteration 0001/0002 current gbest score 0.646565384859709380\n",
      "Finish with gbest score 0.646565384859709380\n",
      "Initial global best score 0.6465653848597095\n",
      "Iteration 0001/0002 current gbest score 0.646565384859709491\n",
      "Finish with gbest score 0.646565384859709491\n",
      "Initial global best score 0.6465653848597095\n",
      "Iteration 0001/0002 current gbest score 0.646565384859709491\n",
      "Finish with gbest score 0.646565384859709491\n",
      "Initial global best score 0.6465653848597094\n",
      "Iteration 0001/0002 current gbest score 0.646565384859709380\n",
      "Finish with gbest score 0.646565384859709380\n",
      "Initial global best score 0.6465653848597094\n",
      "Iteration 0001/0002 current gbest score 0.646565384859709380\n",
      "Finish with gbest score 0.646565384859709380\n"
     ]
    },
    {
     "name": "stderr",
     "output_type": "stream",
     "text": [
      "/home/iran/Documentos/code/cloned_repos/particle-swarm-optimized-clustering/pso_kmeans/particle.py:15: RuntimeWarning: invalid value encountered in double_scalars\n",
      "  dist /= len(idx)\n"
     ]
    },
    {
     "name": "stdout",
     "output_type": "stream",
     "text": [
      "Initial global best score 0.6465653848597094\n",
      "Iteration 0001/0002 current gbest score 0.646565384859709380\n",
      "Finish with gbest score 0.646565384859709380\n",
      "Initial global best score 0.6465653848597094\n",
      "Iteration 0001/0002 current gbest score 0.646565384859709380\n",
      "Finish with gbest score 0.646565384859709380\n"
     ]
    },
    {
     "name": "stderr",
     "output_type": "stream",
     "text": [
      "/home/iran/Documentos/code/cloned_repos/particle-swarm-optimized-clustering/pso_kmeans/particle.py:15: RuntimeWarning: invalid value encountered in double_scalars\n",
      "  dist /= len(idx)\n",
      "/home/iran/Documentos/code/cloned_repos/particle-swarm-optimized-clustering/pso_kmeans/particle.py:15: RuntimeWarning: invalid value encountered in double_scalars\n",
      "  dist /= len(idx)\n"
     ]
    },
    {
     "name": "stdout",
     "output_type": "stream",
     "text": [
      "Initial global best score 0.6465653848597094\n",
      "Iteration 0001/0002 current gbest score 0.646565384859709380\n",
      "Finish with gbest score 0.646565384859709380\n",
      "Initial global best score 0.6465653848597095\n",
      "Iteration 0001/0002 current gbest score 0.646565384859709491\n",
      "Finish with gbest score 0.646565384859709491\n"
     ]
    },
    {
     "name": "stderr",
     "output_type": "stream",
     "text": [
      "/home/iran/Documentos/code/cloned_repos/particle-swarm-optimized-clustering/pso_kmeans/particle.py:15: RuntimeWarning: invalid value encountered in double_scalars\n",
      "  dist /= len(idx)\n"
     ]
    },
    {
     "name": "stdout",
     "output_type": "stream",
     "text": [
      "Initial global best score 0.6465653848597094\n",
      "Iteration 0001/0002 current gbest score 0.646565384859709380\n",
      "Finish with gbest score 0.646565384859709380\n",
      "Initial global best score 0.6465653848597094\n",
      "Iteration 0001/0002 current gbest score 0.646565384859709380\n",
      "Finish with gbest score 0.646565384859709380\n",
      "Initial global best score 0.6465653848597094\n",
      "Iteration 0001/0002 current gbest score 0.646565384859709380\n",
      "Finish with gbest score 0.646565384859709380\n",
      "Initial global best score 0.6465653848597094\n",
      "Iteration 0001/0002 current gbest score 0.646565384859709380\n",
      "Finish with gbest score 0.646565384859709380\n",
      "Initial global best score 0.6426640190514202\n",
      "Iteration 0001/0002 current gbest score 0.642664019051420232\n",
      "Finish with gbest score 0.642664019051420232\n",
      "Initial global best score 0.6465653848597094\n",
      "Iteration 0001/0002 current gbest score 0.646565384859709380\n",
      "Finish with gbest score 0.646565384859709380\n"
     ]
    },
    {
     "name": "stderr",
     "output_type": "stream",
     "text": [
      "/home/iran/Documentos/code/cloned_repos/particle-swarm-optimized-clustering/pso_kmeans/particle.py:15: RuntimeWarning: invalid value encountered in double_scalars\n",
      "  dist /= len(idx)\n",
      "/home/iran/Documentos/code/cloned_repos/particle-swarm-optimized-clustering/pso_kmeans/particle.py:15: RuntimeWarning: invalid value encountered in double_scalars\n",
      "  dist /= len(idx)\n"
     ]
    },
    {
     "name": "stdout",
     "output_type": "stream",
     "text": [
      "Initial global best score 0.6465653848597095\n",
      "Iteration 0001/0002 current gbest score 0.646565384859709491\n",
      "Finish with gbest score 0.646565384859709491\n",
      "Initial global best score 0.6465653848597094\n",
      "Iteration 0001/0002 current gbest score 0.646565384859709380\n",
      "Finish with gbest score 0.646565384859709380\n",
      "Initial global best score 0.6465653848597094\n",
      "Iteration 0001/0002 current gbest score 0.646565384859709380\n",
      "Finish with gbest score 0.646565384859709380\n",
      "Initial global best score 0.6465653848597094\n",
      "Iteration 0001/0002 current gbest score 0.646565384859709380\n",
      "Finish with gbest score 0.646565384859709380\n",
      "Initial global best score 0.6465653848597094\n",
      "Iteration 0001/0002 current gbest score 0.646565384859709380\n",
      "Finish with gbest score 0.646565384859709380\n",
      "Initial global best score 0.6465653848597094\n",
      "Iteration 0001/0002 current gbest score 0.646565384859709380\n",
      "Finish with gbest score 0.646565384859709380\n",
      "Initial global best score 0.6465653848597095\n",
      "Iteration 0001/0002 current gbest score 0.646565384859709491\n",
      "Finish with gbest score 0.646565384859709491\n"
     ]
    },
    {
     "name": "stderr",
     "output_type": "stream",
     "text": [
      "/home/iran/Documentos/code/cloned_repos/particle-swarm-optimized-clustering/pso_kmeans/particle.py:15: RuntimeWarning: invalid value encountered in double_scalars\n",
      "  dist /= len(idx)\n",
      "/home/iran/Documentos/code/cloned_repos/particle-swarm-optimized-clustering/pso_kmeans/particle.py:15: RuntimeWarning: invalid value encountered in double_scalars\n",
      "  dist /= len(idx)\n"
     ]
    },
    {
     "name": "stdout",
     "output_type": "stream",
     "text": [
      "Initial global best score 0.6465653848597094\n",
      "Iteration 0001/0002 current gbest score 0.646565384859709380\n",
      "Finish with gbest score 0.646565384859709380\n",
      "Initial global best score 0.6465653848597094\n",
      "Iteration 0001/0002 current gbest score 0.646565384859709380\n",
      "Finish with gbest score 0.646565384859709380\n",
      "Initial global best score 0.6465653848597094\n",
      "Iteration 0001/0002 current gbest score 0.646565384859709380\n",
      "Finish with gbest score 0.646565384859709380\n",
      "Initial global best score 0.6465653848597095\n",
      "Iteration 0001/0002 current gbest score 0.646565384859709491\n",
      "Finish with gbest score 0.646565384859709491\n",
      "Initial global best score 0.6465653848597095\n",
      "Iteration 0001/0002 current gbest score 0.646565384859709491\n"
     ]
    },
    {
     "name": "stderr",
     "output_type": "stream",
     "text": [
      "/home/iran/Documentos/code/cloned_repos/particle-swarm-optimized-clustering/pso_kmeans/particle.py:15: RuntimeWarning: invalid value encountered in double_scalars\n",
      "  dist /= len(idx)\n"
     ]
    },
    {
     "name": "stdout",
     "output_type": "stream",
     "text": [
      "Finish with gbest score 0.646565384859709491\n",
      "Initial global best score 0.6465653848597095\n",
      "Iteration 0001/0002 current gbest score 0.646565384859709491\n",
      "Finish with gbest score 0.646565384859709491\n",
      "Initial global best score 0.6465653848597094\n",
      "Iteration 0001/0002 current gbest score 0.646565384859709380\n",
      "Finish with gbest score 0.646565384859709380\n",
      "Initial global best score 0.6465653848597095\n",
      "Iteration 0001/0002 current gbest score 0.646565384859709491\n",
      "Finish with gbest score 0.646565384859709491\n",
      "Initial global best score 0.6465653848597095\n",
      "Iteration 0001/0002 current gbest score 0.646565384859709491\n",
      "Finish with gbest score 0.646565384859709491\n",
      "Initial global best score 0.6482198686270393\n",
      "Iteration 0001/0002 current gbest score 0.648219868627039286\n",
      "Finish with gbest score 0.648219868627039286\n",
      "Initial global best score 0.6465653848597094\n",
      "Iteration 0001/0002 current gbest score 0.646565384859709380\n",
      "Finish with gbest score 0.646565384859709380\n",
      "Initial global best score 0.6465653848597094\n",
      "Iteration 0001/0002 current gbest score 0.646565384859709380\n",
      "Finish with gbest score 0.646565384859709380\n",
      "Initial global best score 0.6465653848597094\n",
      "Iteration 0001/0002 current gbest score 0.646565384859709380\n",
      "Finish with gbest score 0.646565384859709380\n",
      "Initial global best score 0.6465653848597094\n",
      "Iteration 0001/0002 current gbest score 0.646565384859709380\n",
      "Finish with gbest score 0.646565384859709380\n",
      "Initial global best score 0.6465653848597094\n",
      "Iteration 0001/0002 current gbest score 0.646565384859709380\n",
      "Finish with gbest score 0.646565384859709380\n",
      "Initial global best score 0.6465653848597095\n",
      "Iteration 0001/0002 current gbest score 0.646565384859709491\n",
      "Finish with gbest score 0.646565384859709491\n"
     ]
    },
    {
     "name": "stderr",
     "output_type": "stream",
     "text": [
      "/home/iran/Documentos/code/cloned_repos/particle-swarm-optimized-clustering/pso_kmeans/particle.py:15: RuntimeWarning: invalid value encountered in double_scalars\n",
      "  dist /= len(idx)\n",
      "/home/iran/Documentos/code/cloned_repos/particle-swarm-optimized-clustering/pso_kmeans/particle.py:15: RuntimeWarning: invalid value encountered in double_scalars\n",
      "  dist /= len(idx)\n"
     ]
    },
    {
     "name": "stdout",
     "output_type": "stream",
     "text": [
      "Initial global best score 0.6465653848597095\n",
      "Iteration 0001/0002 current gbest score 0.646565384859709491\n",
      "Finish with gbest score 0.646565384859709491\n",
      "Initial global best score 0.6465653848597094\n",
      "Iteration 0001/0002 current gbest score 0.646565384859709380\n",
      "Finish with gbest score 0.646565384859709380\n",
      "Initial global best score 0.6465653848597095\n",
      "Iteration 0001/0002 current gbest score 0.646565384859709491\n",
      "Finish with gbest score 0.646565384859709491\n",
      "Initial global best score 0.6465653848597094\n",
      "Iteration 0001/0002 current gbest score 0.646565384859709380\n",
      "Finish with gbest score 0.646565384859709380\n",
      "Initial global best score 0.6465653848597094\n",
      "Iteration 0001/0002 current gbest score 0.646565384859709380\n",
      "Finish with gbest score 0.646565384859709380\n",
      "Initial global best score 0.6465653848597094\n",
      "Iteration 0001/0002 current gbest score 0.646565384859709380\n",
      "Finish with gbest score 0.646565384859709380\n"
     ]
    },
    {
     "name": "stderr",
     "output_type": "stream",
     "text": [
      "/home/iran/Documentos/code/cloned_repos/particle-swarm-optimized-clustering/pso_kmeans/particle.py:15: RuntimeWarning: invalid value encountered in double_scalars\n",
      "  dist /= len(idx)\n"
     ]
    },
    {
     "name": "stdout",
     "output_type": "stream",
     "text": [
      "Initial global best score 0.6465653848597094\n",
      "Iteration 0001/0002 current gbest score 0.646565384859709380\n",
      "Finish with gbest score 0.646565384859709380\n",
      "Initial global best score 0.6465653848597095\n",
      "Iteration 0001/0002 current gbest score 0.646565384859709491\n",
      "Finish with gbest score 0.646565384859709491\n"
     ]
    },
    {
     "name": "stderr",
     "output_type": "stream",
     "text": [
      "/home/iran/Documentos/code/cloned_repos/particle-swarm-optimized-clustering/pso_kmeans/particle.py:15: RuntimeWarning: invalid value encountered in double_scalars\n",
      "  dist /= len(idx)\n",
      "/home/iran/Documentos/code/cloned_repos/particle-swarm-optimized-clustering/pso_kmeans/particle.py:15: RuntimeWarning: invalid value encountered in double_scalars\n",
      "  dist /= len(idx)\n",
      "/home/iran/Documentos/code/cloned_repos/particle-swarm-optimized-clustering/pso_kmeans/particle.py:15: RuntimeWarning: invalid value encountered in double_scalars\n",
      "  dist /= len(idx)\n",
      "/home/iran/Documentos/code/cloned_repos/particle-swarm-optimized-clustering/pso_kmeans/particle.py:15: RuntimeWarning: invalid value encountered in double_scalars\n",
      "  dist /= len(idx)\n"
     ]
    },
    {
     "name": "stdout",
     "output_type": "stream",
     "text": [
      "Initial global best score 0.6465653848597094\n",
      "Iteration 0001/0002 current gbest score 0.646565384859709380\n",
      "Finish with gbest score 0.646565384859709380\n",
      "Initial global best score 0.6465653848597095\n",
      "Iteration 0001/0002 current gbest score 0.646565384859709491\n",
      "Finish with gbest score 0.646565384859709491\n",
      "Initial global best score 0.6465653848597095\n",
      "Iteration 0001/0002 current gbest score 0.646565384859709491\n",
      "Finish with gbest score 0.646565384859709491\n",
      "Initial global best score 0.6465653848597094\n",
      "Iteration 0001/0002 current gbest score 0.646565384859709380\n",
      "Finish with gbest score 0.646565384859709380\n",
      "Initial global best score 0.6465653848597094\n",
      "Iteration 0001/0002 current gbest score 0.646565384859709380\n",
      "Finish with gbest score 0.646565384859709380\n",
      "CPU times: user 32.2 s, sys: 555 ms, total: 32.7 s\n",
      "Wall time: 13 s\n"
     ]
    }
   ],
   "source": [
    "%%time\n",
    "## parametros\n",
    "\n",
    "# numero de iterações\n",
    "n_iter = 100\n",
    "n_particles = 10\n",
    "max_iter = 2\n",
    "\n",
    "for _ in range(n_iter):\n",
    "    pso_rep = ParticleSwarmOptimizedClustering(\n",
    "        n_cluster=3, n_particles=n_particles, data=x, hybrid=True, max_iter=max_iter, print_debug=10)\n",
    "    pso_rep.run()\n",
    "    # inicia uma instância do kmeans apenas para fazer o fit\n",
    "    pso_kmeans = KMeans(n_clusters=3, random_state=0, max_iter=1, )\n",
    "    pso_kmeans.fit(x)\n",
    "    # atualiza o centroid do kmeans com base no pso\n",
    "    pso_kmeans.cluster_centers_ = pso_rep.gbest_centroids.copy()    \n",
    "    predicted_pso_rep = pso_kmeans.predict(x)"
   ]
  },
  {
   "cell_type": "code",
   "execution_count": 8,
   "metadata": {},
   "outputs": [
    {
     "data": {
      "text/plain": [
       "array([[5.006     , 3.428     , 1.462     , 0.246     ],\n",
       "       [6.85      , 3.07368421, 5.74210526, 2.07105263],\n",
       "       [5.9016129 , 2.7483871 , 4.39354839, 1.43387097]])"
      ]
     },
     "execution_count": 8,
     "metadata": {},
     "output_type": "execute_result"
    }
   ],
   "source": [
    "pso_kmeans.cluster_centers_"
   ]
  },
  {
   "cell_type": "markdown",
   "metadata": {},
   "source": [
    "# Visualização da clusterização"
   ]
  },
  {
   "cell_type": "code",
   "execution_count": 9,
   "metadata": {},
   "outputs": [
    {
     "data": {
      "image/png": "[encoded data removed]",
      "text/plain": [
       "<Figure size 432x288 with 1 Axes>"
      ]
     },
     "metadata": {
      "needs_background": "light"
     },
     "output_type": "display_data"
    }
   ],
   "source": [
    "y_kmeans = predicted_pso_rep.copy()\n",
    "fig, ax = plt.subplots()\n",
    "ax.set_title(\"PSO + KMeans\")\n",
    "# clusters\n",
    "ax.scatter(x[y_kmeans == 0, 0], x[y_kmeans == 0, 1], s=100, c='red', marker='.')\n",
    "ax.scatter(x[y_kmeans == 1, 0], x[y_kmeans == 1, 1], s=100, c='blue', marker='.')\n",
    "ax.scatter(x[y_kmeans == 2, 0], x[y_kmeans == 2, 1], s=100, c='green', marker='.')\n",
    "\n",
    "# centroids\n",
    "ax.scatter(pso_kmeans.cluster_centers_[:, 0], pso_kmeans.cluster_centers_[:, 1], s=100, c='black', label=\"Centroids\")\n",
    "plt.tight_layout()\n",
    "plt.legend()\n",
    "plt.show()"
   ]
  }
 ],
 "metadata": {
  "kernelspec": {
   "display_name": "Python 3 (ipykernel)",
   "language": "python",
   "name": "python3"
  },
  "language_info": {
   "codemirror_mode": {
    "name": "ipython",
    "version": 3
   },
   "file_extension": ".py",
   "mimetype": "text/x-python",
   "name": "python",
   "nbconvert_exporter": "python",
   "pygments_lexer": "ipython3",
   "version": "3.9.2"
  }
 },
 "nbformat": 4,
 "nbformat_minor": 2
}

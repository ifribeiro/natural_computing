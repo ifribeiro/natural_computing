{
 "cells": [
  {
   "cell_type": "markdown",
   "id": "ad3cc060",
   "metadata": {},
   "source": [
    "Clusterização de dados utilizando Algoritmo Genético (codificação real, mutação gaussiana e crossover aritmético) e Kmeans\n",
    "\n",
    "**Aluno**: Iran Freitas Ribeiro\n",
    "\n",
    "**Matrícula**: 2021241588\n",
    "\n",
    "**Disciplina**: Computação Natural\n",
    "\n",
    "**Professor**: Renato Antonio Kroling\n",
    "\n",
    "Código do GA adaptado de [Simple Genetic Algorithm](https://machinelearningmastery.com/simple-genetic-algorithm-from-scratch-in-python/) por Jason Brownlee, com algumas funções retiradas de https://github.com/dandynaufaldi/particle-swarm-optimized-clustering para adatapção da clusterização"
   ]
  },
  {
   "cell_type": "code",
   "execution_count": 1,
   "id": "b2e1b3ce",
   "metadata": {},
   "outputs": [],
   "source": [
    "import numpy as np\n",
    "from numpy.lib.npyio import load\n",
    "from numpy.random import randint\n",
    "from numpy.random import rand\n",
    "import pandas as pd\n",
    "import matplotlib.pyplot as plt\n",
    "from sklearn.cluster import KMeans\n",
    "from sklearn import datasets\n",
    "\n",
    "\n",
    "\n",
    "def selection(pop, scores, k=3):\n",
    "    \"\"\"\n",
    "    Realiza a selação por torneio\n",
    "    \"\"\"\n",
    "    # first random selection\n",
    "    selection_ix = randint(len(pop))\n",
    "    for ix in randint(0, len(pop), k-1):\n",
    "        # check if better (e.g. perform a tournament)\n",
    "        if scores[ix] < scores[selection_ix]:\n",
    "            selection_ix = ix\n",
    "    return pop[selection_ix]\n",
    "\n",
    "def crossover(p1, p2):\n",
    "    \"\"\"\n",
    "    Realiza o crossover aritimético\n",
    "    \"\"\"\n",
    "    beta = np.random.uniform()\n",
    "    c1 = beta*p1 + (1 - beta)*p2\n",
    "    beta = np.random.uniform()\n",
    "    c2 = (1 - beta)*p1 + beta*p2    \n",
    "    return [c1, c2]\n",
    "\n",
    "# mutação gaussiana\n",
    "def mutation(p, r_mut, alpha):\n",
    "    \"\"\"\n",
    "    Realiza a mutação gaussiana\n",
    "    \"\"\"\n",
    "    pmutate = p.flatten()\n",
    "    for i in range(len(pmutate)):\n",
    "        if rand() < r_mut:\n",
    "            pmutate[i] = np.random.normal(loc=pmutate[i], scale=alpha, size=None)\n",
    "    pmutate = pmutate.reshape(p.shape)\n",
    "    return pmutate\n",
    "\n",
    "def choose_initial_centroid(data, pop, bounds, n_pop):\n",
    "    \"\"\"\n",
    "    Busca um centróide válido qualquer da população\n",
    "    \"\"\"\n",
    "\n",
    "    # escolhe o primeiro individuo com centroid valido\n",
    "    for i in range(n_pop):\n",
    "        init_clusters = predict(data, pop[i])\n",
    "        _, best_eval = 0, eval_individual(pop[i], init_clusters, data)\n",
    "\n",
    "        if (not np.isnan(best_eval)) and (best_eval != np.inf):\n",
    "            return i, best_eval\n",
    "    return 0, np.inf\n",
    "\n",
    "def calc_distance(data, centroids):\n",
    "    \"\"\"\n",
    "    Calcula distância entre dados e centroids\n",
    "    \"\"\"\n",
    "    distances = []\n",
    "    for c in centroids:\n",
    "        distance = np.sum((data - c) * (data - c), axis=1)\n",
    "        distances.append(distance)\n",
    "\n",
    "    distances = np.array(distances)\n",
    "    distances = np.transpose(distances)\n",
    "    return distances\n",
    "\n",
    "def quantization_error(centroids: np.ndarray, labels: np.ndarray, data: np.ndarray) -> float:\n",
    "    error = 0.0\n",
    "    for i, c in enumerate(centroids):\n",
    "        idx = np.where(labels == i)[0]\n",
    "        dist = np.linalg.norm(data[idx] - c, axis=1).sum()\n",
    "        if (len(idx) == 0):\n",
    "            dist = np.inf\n",
    "        else:\n",
    "            dist /= len(idx)\n",
    "        error += dist\n",
    "    error /= len(centroids)\n",
    "    return error\n",
    "            \n",
    "def eval_individual(centroids, predict_data, data):\n",
    "    \"\"\"\n",
    "    Avalia um indivíduo da população\n",
    "    \"\"\"\n",
    "    score = quantization_error(centroids, predict_data, data)\n",
    "    return score\n",
    "\n",
    "def predict(data, centroids):\n",
    "    \"\"\"\n",
    "    Retorna os clusters para cada ponto dos dados\n",
    "    \"\"\"\n",
    "    distance = calc_distance(data, centroids)\n",
    "    cluster = assign_cluster(distance)\n",
    "    return cluster\n",
    "\n",
    "def assign_cluster(distance):\n",
    "    \"\"\"\n",
    "    Atribui um cluster para cada distância calculada\n",
    "    \"\"\"\n",
    "    cluster = np.argmin(distance, axis=1)\n",
    "    return cluster\n",
    "\n",
    "def genetic_algorithm(n_clusters, bounds, n_bits, n_iter, n_pop, r_mut, alpha, data, r_decr):\n",
    "    \"\"\"\n",
    "    Algoritmo Genético\n",
    "    \"\"\"\n",
    "    # inicia a população com valores reais entre [bounds[0], bounds[1]]\n",
    "    # Cada indivíduo da população representa um centroid\n",
    "    pop = [np.random.uniform(bounds[0], bounds[1], size=n_clusters*data.shape[1]) for _ in range(n_pop)]\n",
    "    # transforma cada individuo no formato esperado para o cluster (matriz com 3*4 dimensões)\n",
    "    pop = [p.reshape(n_clusters,data.shape[1]) for p in pop]\n",
    "    best, best_eval = choose_initial_centroid(data, pop, bounds, n_pop)\n",
    "    # enumerate generations\n",
    "    hist_best_eval = [best_eval]\n",
    "    kscore = np.inf\n",
    "    popibest = 0\n",
    "    for gen in range(n_iter):\n",
    "        # decode population\n",
    "        clusters = [predict(data, p) for p in pop]\n",
    "        # evaluate all candidates in the population\n",
    "        scores = [eval_individual(p, pc, data) for p, pc in zip(pop, clusters)]\n",
    "        # check for new best solution\n",
    "        \n",
    "        for i in range(n_pop):\n",
    "            if scores[i] < best_eval:\n",
    "                best, best_eval = pop[i], scores[i]\n",
    "                popibest = i\n",
    "                \n",
    "        ## Aplicando o kmeans para acelerar o processo de clusterização\n",
    "        if (kscore != np.inf):\n",
    "            init_centroid  = best\n",
    "        \n",
    "        kmeans = KMeans(n_clusters=n_clusters, init=best, n_init=1)\n",
    "        kmeans.fit(data)\n",
    "        kmeans_clusters = kmeans.predict(data)\n",
    "        # avalia o kmeans\n",
    "        kscore = eval_individual(kmeans.cluster_centers_, kmeans_clusters, data)\n",
    "        # atualizar o valor do melhor score\n",
    "        if kscore <= best_eval:\n",
    "            best = kmeans.cluster_centers_\n",
    "            best_eval = kscore\n",
    "            # atualiza melhor individuo da população pelo kmeans\n",
    "            pop[popibest] = best\n",
    "        else:\n",
    "            kscore = np.inf\n",
    "        \n",
    "        if (gen%10 == 0):\n",
    "            if (kscore == np.inf):\n",
    "                print (\"Best> gen:{} individuo: {} score: {:.5f}\".format(gen, popibest, best_eval))\n",
    "            else:\n",
    "                print (\"Best> (from kmeans) gen: {} score: {:.5}\".format(gen, best_eval))\n",
    "        # select parents\n",
    "        hist_best_eval.append(best_eval)\n",
    "        selected = [selection(pop, scores) for _ in range(n_pop)]\n",
    "        # create the next generation    \n",
    "        children = list()\n",
    "        for i in range(0, n_pop, 2):\n",
    "            # get selected parents in pairs\n",
    "            p1, p2 = selected[i], selected[i+1]\n",
    "            # crossover and mutation\n",
    "            for c in crossover(p1, p2):\n",
    "                # mutation\n",
    "                c = mutation(c, r_mut, alpha)\n",
    "                # store for next generation\n",
    "                children.append(c)\n",
    "        alpha -= r_decr\n",
    "        # replace population\n",
    "        pop = children\n",
    "    return [best, best_eval, hist_best_eval]"
   ]
  },
  {
   "cell_type": "markdown",
   "id": "c8994990",
   "metadata": {},
   "source": [
    "### Experimentos\n",
    "\n",
    "10 execuções do algorítimo genético com os parâmetros:\n",
    "\n",
    "- Tamanho da população: 100\n",
    "- Taxa de mutação: ~0.09\n",
    "- $\\alpha$: Inicia com 0.5 e descresce gradualmente ao longo das gerações"
   ]
  },
  {
   "cell_type": "markdown",
   "id": "2323b461",
   "metadata": {},
   "source": [
    "**Carrega o dataset**"
   ]
  },
  {
   "cell_type": "code",
   "execution_count": 2,
   "id": "7bda38a0",
   "metadata": {},
   "outputs": [],
   "source": [
    "data_iris = datasets.load_iris(as_frame=True)\n",
    "iris_names = data_iris.target_names\n",
    "data = data_iris.data\n",
    "X = data.iloc[:, [0, 1, 2, 3]].values"
   ]
  },
  {
   "cell_type": "code",
   "execution_count": 6,
   "id": "60f0ca6a",
   "metadata": {},
   "outputs": [],
   "source": [
    "bounds = [0.1, 7.9]\n",
    "### remover\n",
    "pop = [np.random.uniform(bounds[0], bounds[1], size=3*X.shape[1]) for _ in range(1)]\n",
    "    # transforma cada individuo no formato esperado para o cluster (matriz com 3*4 dimensões)\n",
    "pop = [p.reshape(3,X.shape[1]) for p in pop]"
   ]
  },
  {
   "cell_type": "code",
   "execution_count": 11,
   "id": "866253c0",
   "metadata": {},
   "outputs": [
    {
     "ename": "ValueError",
     "evalue": "operands could not be broadcast together with shapes (150,4) (3,4) ",
     "output_type": "error",
     "traceback": [
      "\u001b[0;31m---------------------------------------------------------------------------\u001b[0m",
      "\u001b[0;31mValueError\u001b[0m                                Traceback (most recent call last)",
      "\u001b[0;32m/tmp/ipykernel_5257/1391017163.py\u001b[0m in \u001b[0;36m<module>\u001b[0;34m\u001b[0m\n\u001b[0;32m----> 1\u001b[0;31m \u001b[0mpredict\u001b[0m\u001b[0;34m(\u001b[0m\u001b[0mX\u001b[0m\u001b[0;34m,\u001b[0m \u001b[0mpop\u001b[0m\u001b[0;34m[\u001b[0m\u001b[0;34m:\u001b[0m\u001b[0;36m1\u001b[0m\u001b[0;34m]\u001b[0m\u001b[0;34m)\u001b[0m\u001b[0;34m\u001b[0m\u001b[0;34m\u001b[0m\u001b[0m\n\u001b[0m",
      "\u001b[0;32m/tmp/ipykernel_5257/2374054986.py\u001b[0m in \u001b[0;36mpredict\u001b[0;34m(data, centroids)\u001b[0m\n\u001b[1;32m     95\u001b[0m     \u001b[0mRetorna\u001b[0m \u001b[0mos\u001b[0m \u001b[0mclusters\u001b[0m \u001b[0mpara\u001b[0m \u001b[0mcada\u001b[0m \u001b[0mponto\u001b[0m \u001b[0mdos\u001b[0m \u001b[0mdados\u001b[0m\u001b[0;34m\u001b[0m\u001b[0;34m\u001b[0m\u001b[0m\n\u001b[1;32m     96\u001b[0m     \"\"\"\n\u001b[0;32m---> 97\u001b[0;31m     \u001b[0mdistance\u001b[0m \u001b[0;34m=\u001b[0m \u001b[0mcalc_distance\u001b[0m\u001b[0;34m(\u001b[0m\u001b[0mdata\u001b[0m\u001b[0;34m,\u001b[0m \u001b[0mcentroids\u001b[0m\u001b[0;34m)\u001b[0m\u001b[0;34m\u001b[0m\u001b[0;34m\u001b[0m\u001b[0m\n\u001b[0m\u001b[1;32m     98\u001b[0m     \u001b[0mcluster\u001b[0m \u001b[0;34m=\u001b[0m \u001b[0massign_cluster\u001b[0m\u001b[0;34m(\u001b[0m\u001b[0mdistance\u001b[0m\u001b[0;34m)\u001b[0m\u001b[0;34m\u001b[0m\u001b[0;34m\u001b[0m\u001b[0m\n\u001b[1;32m     99\u001b[0m     \u001b[0;32mreturn\u001b[0m \u001b[0mcluster\u001b[0m\u001b[0;34m\u001b[0m\u001b[0;34m\u001b[0m\u001b[0m\n",
      "\u001b[0;32m/tmp/ipykernel_5257/2374054986.py\u001b[0m in \u001b[0;36mcalc_distance\u001b[0;34m(data, centroids)\u001b[0m\n\u001b[1;32m     64\u001b[0m     \u001b[0mdistances\u001b[0m \u001b[0;34m=\u001b[0m \u001b[0;34m[\u001b[0m\u001b[0;34m]\u001b[0m\u001b[0;34m\u001b[0m\u001b[0;34m\u001b[0m\u001b[0m\n\u001b[1;32m     65\u001b[0m     \u001b[0;32mfor\u001b[0m \u001b[0mc\u001b[0m \u001b[0;32min\u001b[0m \u001b[0mcentroids\u001b[0m\u001b[0;34m:\u001b[0m\u001b[0;34m\u001b[0m\u001b[0;34m\u001b[0m\u001b[0m\n\u001b[0;32m---> 66\u001b[0;31m         \u001b[0mdistance\u001b[0m \u001b[0;34m=\u001b[0m \u001b[0mnp\u001b[0m\u001b[0;34m.\u001b[0m\u001b[0msum\u001b[0m\u001b[0;34m(\u001b[0m\u001b[0;34m(\u001b[0m\u001b[0mdata\u001b[0m \u001b[0;34m-\u001b[0m \u001b[0mc\u001b[0m\u001b[0;34m)\u001b[0m \u001b[0;34m*\u001b[0m \u001b[0;34m(\u001b[0m\u001b[0mdata\u001b[0m \u001b[0;34m-\u001b[0m \u001b[0mc\u001b[0m\u001b[0;34m)\u001b[0m\u001b[0;34m,\u001b[0m \u001b[0maxis\u001b[0m\u001b[0;34m=\u001b[0m\u001b[0;36m1\u001b[0m\u001b[0;34m)\u001b[0m\u001b[0;34m\u001b[0m\u001b[0;34m\u001b[0m\u001b[0m\n\u001b[0m\u001b[1;32m     67\u001b[0m         \u001b[0mdistances\u001b[0m\u001b[0;34m.\u001b[0m\u001b[0mappend\u001b[0m\u001b[0;34m(\u001b[0m\u001b[0mdistance\u001b[0m\u001b[0;34m)\u001b[0m\u001b[0;34m\u001b[0m\u001b[0;34m\u001b[0m\u001b[0m\n\u001b[1;32m     68\u001b[0m \u001b[0;34m\u001b[0m\u001b[0m\n",
      "\u001b[0;31mValueError\u001b[0m: operands could not be broadcast together with shapes (150,4) (3,4) "
     ]
    }
   ],
   "source": [
    "predict(X, pop[:1])"
   ]
  },
  {
   "cell_type": "code",
   "execution_count": null,
   "id": "86d78b34",
   "metadata": {},
   "outputs": [],
   "source": []
  },
  {
   "cell_type": "code",
   "execution_count": 20,
   "id": "10432029",
   "metadata": {
    "scrolled": false
   },
   "outputs": [
    {
     "name": "stdout",
     "output_type": "stream",
     "text": [
      "Best> (from kmeans) gen: 0 score: 0.64657\n",
      "Best> (from kmeans) gen: 10 score: 0.64657\n",
      "Best> gen:20 individuo: 94 score: 0.64610\n",
      "Best> gen:30 individuo: 94 score: 0.64610\n",
      "Best> gen:40 individuo: 63 score: 0.64542\n",
      "Best> gen:50 individuo: 5 score: 0.64474\n",
      "Best> gen:60 individuo: 59 score: 0.64347\n",
      "Best> gen:70 individuo: 96 score: 0.64222\n",
      "Best> gen:80 individuo: 96 score: 0.64222\n",
      "Best> gen:90 individuo: 96 score: 0.64222\n",
      "Best> gen:100 individuo: 89 score: 0.64219\n",
      "Best> gen:110 individuo: 44 score: 0.64202\n",
      "Best> gen:120 individuo: 45 score: 0.64201\n",
      "Best> gen:130 individuo: 45 score: 0.64201\n",
      "Best> gen:140 individuo: 45 score: 0.64201\n",
      "Best> gen:150 individuo: 45 score: 0.64201\n",
      "Best> gen:160 individuo: 3 score: 0.64191\n",
      "Best> gen:170 individuo: 38 score: 0.64190\n",
      "Best> gen:180 individuo: 96 score: 0.64186\n",
      "Best> gen:190 individuo: 1 score: 0.64181\n"
     ]
    }
   ],
   "source": [
    "bounds = [0.1, 7.9]\n",
    "#numero de clusters\n",
    "n_clusters = 3\n",
    "# define the total iterations\n",
    "#n_iter = 200\n",
    "n_iter = 200\n",
    "# bits per variable\n",
    "n_bits = 32\n",
    "# define the population size\n",
    "n_pop = 100\n",
    "# mutation rate\n",
    "r_mut = 0.09\n",
    "# alpha utilizado na mutação gaussiana\n",
    "alpha = 0.5\n",
    "r_decr = alpha/n_iter\n",
    "\n",
    "best, score, hist_scores  = genetic_algorithm(n_clusters, bounds, n_bits, n_iter,\n",
    "                            n_pop, r_mut, alpha, X, r_decr)"
   ]
  },
  {
   "cell_type": "markdown",
   "id": "c2da19fd",
   "metadata": {},
   "source": [
    "# Visualização da clusterização"
   ]
  },
  {
   "cell_type": "code",
   "execution_count": 23,
   "id": "7d390d18",
   "metadata": {},
   "outputs": [
    {
     "data": {
      "image/png": "[encoded data removed]",
      "text/plain": [
       "<Figure size 432x288 with 1 Axes>"
      ]
     },
     "metadata": {
      "needs_background": "light"
     },
     "output_type": "display_data"
    }
   ],
   "source": [
    "# Pega os clusters\n",
    "y_kmeans = predict(X, best)\n",
    "fig, ax = plt.subplots()\n",
    "ax.set_title(\"GA + KMeans\")\n",
    "# clusters\n",
    "ax.scatter(X[y_kmeans == 0, 0], X[y_kmeans == 0, 1], s=100, c='red', marker='.')\n",
    "ax.scatter(X[y_kmeans == 1, 0], X[y_kmeans == 1, 1], s=100, c='blue', marker='.')\n",
    "ax.scatter(X[y_kmeans == 2, 0], X[y_kmeans == 2, 1], s=100, c='green', marker='.')\n",
    "\n",
    "# centroids\n",
    "ax.scatter(best[:, 0], best[:, 1], s=100, c='black', label='Centroids')\n",
    "plt.legend()\n",
    "plt.tight_layout()\n",
    "plt.show()"
   ]
  },
  {
   "cell_type": "markdown",
   "id": "2423b694",
   "metadata": {},
   "source": [
    "# Evolução do score do Algoritmo"
   ]
  },
  {
   "cell_type": "code",
   "execution_count": 24,
   "id": "d4e29a49",
   "metadata": {},
   "outputs": [
    {
     "data": {
      "image/png": "[encoded data removed]",
      "text/plain": [
       "<Figure size 432x288 with 1 Axes>"
      ]
     },
     "metadata": {
      "needs_background": "light"
     },
     "output_type": "display_data"
    }
   ],
   "source": [
    "fig, ax = plt.subplots()\n",
    "xgen = np.arange(0,n_iter+1,1)\n",
    "ax.plot(xgen[0:], hist_scores[0:])\n",
    "ax.set_xlabel(\"Generations\")\n",
    "ax.set_ylabel(\"Scores\")\n",
    "plt.tight_layout()\n",
    "plt.show()"
   ]
  },
  {
   "cell_type": "markdown",
   "id": "7e69ab2c",
   "metadata": {},
   "source": [
    "**Para facilitar a visualização, a figura acima é plotada a partir da geração 50**"
   ]
  },
  {
   "cell_type": "code",
   "execution_count": 21,
   "id": "9301ab02",
   "metadata": {},
   "outputs": [
    {
     "data": {
      "image/png": "[encoded data removed]",
      "text/plain": [
       "<Figure size 432x288 with 1 Axes>"
      ]
     },
     "metadata": {
      "needs_background": "light"
     },
     "output_type": "display_data"
    }
   ],
   "source": [
    "fig, ax = plt.subplots()\n",
    "xgen = np.arange(0,n_iter+1,1)\n",
    "ax.plot(xgen[50:], hist_scores[50:])\n",
    "ax.set_xlabel(\"Generations\")\n",
    "ax.set_ylabel(\"Scores\")\n",
    "plt.tight_layout()\n",
    "plt.show()"
   ]
  },
  {
   "cell_type": "code",
   "execution_count": null,
   "id": "133ea95a",
   "metadata": {},
   "outputs": [],
   "source": []
  }
 ],
 "metadata": {
  "kernelspec": {
   "display_name": "Python 3 (ipykernel)",
   "language": "python",
   "name": "python3"
  },
  "language_info": {
   "codemirror_mode": {
    "name": "ipython",
    "version": 3
   },
   "file_extension": ".py",
   "mimetype": "text/x-python",
   "name": "python",
   "nbconvert_exporter": "python",
   "pygments_lexer": "ipython3",
   "version": "3.9.2"
  }
 },
 "nbformat": 4,
 "nbformat_minor": 5
}

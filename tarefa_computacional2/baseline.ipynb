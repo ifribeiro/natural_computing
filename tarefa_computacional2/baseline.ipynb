{
 "cells": [
  {
   "cell_type": "code",
   "execution_count": 4,
   "metadata": {},
   "outputs": [],
   "source": [
    "import functions\n",
    "from datetime import datetime"
   ]
  },
  {
   "cell_type": "markdown",
   "metadata": {},
   "source": [
    "# Iris dataset"
   ]
  },
  {
   "cell_type": "code",
   "execution_count": 3,
   "metadata": {},
   "outputs": [],
   "source": [
    "X_iris, Y_iris = functions.load_dataset('iris')\n",
    "args_iris = [X_iris, Y_iris, 4]"
   ]
  },
  {
   "cell_type": "code",
   "execution_count": 6,
   "metadata": {},
   "outputs": [
    {
     "name": "stdout",
     "output_type": "stream",
     "text": [
      "Running exp  0\n",
      "Running exp  1\n",
      "Running exp  2\n",
      "Running exp  3\n",
      "Running exp  4\n",
      "Running exp  5\n",
      "Running exp  6\n",
      "Running exp  7\n",
      "Running exp  8\n",
      "Running exp  9\n",
      "Duration: 0:02:19.828221\n"
     ]
    }
   ],
   "source": [
    "start_time = datetime.now()\n",
    "functions.run_nn_experiments(10, exp_name='iris_baseline',  args=args_iris)\n",
    "end_time = datetime.now()\n",
    "print('Duration: {}'.format(end_time - start_time))"
   ]
  },
  {
   "cell_type": "markdown",
   "metadata": {},
   "source": [
    "# Wine dataset"
   ]
  },
  {
   "cell_type": "code",
   "execution_count": 7,
   "metadata": {},
   "outputs": [],
   "source": [
    "X_wine, Y_wine = functions.load_dataset('wine')\n",
    "args_wine = [X_wine, Y_wine, 4]"
   ]
  },
  {
   "cell_type": "code",
   "execution_count": 8,
   "metadata": {},
   "outputs": [
    {
     "name": "stdout",
     "output_type": "stream",
     "text": [
      "Running exp  0\n",
      "Running exp  1\n",
      "Running exp  2\n",
      "Running exp  3\n",
      "Running exp  4\n",
      "Running exp  5\n",
      "Running exp  6\n",
      "Running exp  7\n",
      "Running exp  8\n",
      "Running exp  9\n",
      "Duration: 0:02:01.243023\n"
     ]
    }
   ],
   "source": [
    "start_time = datetime.now()\n",
    "functions.run_nn_experiments(10, \"wine_baseline\", args=args_wine)\n",
    "end_time = datetime.now()\n",
    "print('Duration: {}'.format(end_time - start_time))"
   ]
  },
  {
   "cell_type": "markdown",
   "metadata": {},
   "source": [
    "# Breast dataset"
   ]
  },
  {
   "cell_type": "code",
   "execution_count": 10,
   "metadata": {},
   "outputs": [],
   "source": [
    "X_breast, Y_breast = functions.load_dataset('breast')\n",
    "args_breast = [X_breast, Y_breast, 4]"
   ]
  },
  {
   "cell_type": "code",
   "execution_count": 11,
   "metadata": {},
   "outputs": [
    {
     "name": "stdout",
     "output_type": "stream",
     "text": [
      "Running exp  0\n",
      "Running exp  1\n",
      "Running exp  2\n",
      "Running exp  3\n",
      "Running exp  4\n",
      "Running exp  5\n",
      "Running exp  6\n",
      "Running exp  7\n",
      "Running exp  8\n",
      "Running exp  9\n",
      "Duration: 0:06:38.682148\n"
     ]
    }
   ],
   "source": [
    "start_time = datetime.now()\n",
    "functions.run_nn_experiments(10, \"breast_baseline\", args=args_breast)\n",
    "end_time = datetime.now()\n",
    "print('Duration: {}'.format(end_time - start_time))"
   ]
  }
 ],
 "metadata": {
  "interpreter": {
   "hash": "31f2aee4e71d21fbe5cf8b01ff0e069b9275f58929596ceb00d14d90e3e16cd6"
  },
  "kernelspec": {
   "display_name": "Python 3.9.2 64-bit",
   "language": "python",
   "name": "python3"
  },
  "language_info": {
   "codemirror_mode": {
    "name": "ipython",
    "version": 3
   },
   "file_extension": ".py",
   "mimetype": "text/x-python",
   "name": "python",
   "nbconvert_exporter": "python",
   "pygments_lexer": "ipython3",
   "version": "3.9.2"
  },
  "orig_nbformat": 4
 },
 "nbformat": 4,
 "nbformat_minor": 2
}

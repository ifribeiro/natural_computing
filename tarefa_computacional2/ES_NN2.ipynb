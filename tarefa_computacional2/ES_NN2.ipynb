{
 "cells": [
  {
   "cell_type": "code",
   "execution_count": null,
   "metadata": {},
   "outputs": [],
   "source": []
  },
  {
   "cell_type": "markdown",
   "metadata": {},
   "source": [
    "**Melhorias**\n",
    "\n",
    "- Mostrar estrutura da rede em um grafo\n",
    "\n",
    "https://github.com/amir7d0/classification-neural-network/blob/main/ANN.ipynb"
   ]
  },
  {
   "cell_type": "code",
   "execution_count": 1,
   "metadata": {},
   "outputs": [],
   "source": [
    "import numpy as np"
   ]
  },
  {
   "cell_type": "code",
   "execution_count": 2,
   "metadata": {},
   "outputs": [],
   "source": [
    "def mse(y, y_hat):\n",
    "    return np.sum((y_hat - y)**2)/y.size"
   ]
  },
  {
   "cell_type": "code",
   "execution_count": 7,
   "metadata": {},
   "outputs": [],
   "source": [
    "y = np.array([0,0,1,0,2,2,1])\n",
    "y_hat = np.array([0.5, 0.7, 0.5, 0.4, 1.2, 1.3, 0.3])"
   ]
  },
  {
   "cell_type": "code",
   "execution_count": 12,
   "metadata": {},
   "outputs": [],
   "source": [
    "y = y.reshape(1,7)\n",
    "y_hat = y_hat.reshape(1,7)"
   ]
  },
  {
   "cell_type": "code",
   "execution_count": 13,
   "metadata": {},
   "outputs": [
    {
     "data": {
      "text/plain": [
       "0.39571428571428563"
      ]
     },
     "execution_count": 13,
     "metadata": {},
     "output_type": "execute_result"
    }
   ],
   "source": [
    "mse(y, y_hat)"
   ]
  },
  {
   "cell_type": "code",
   "execution_count": 14,
   "metadata": {},
   "outputs": [
    {
     "data": {
      "text/plain": [
       "0.1439639269309892"
      ]
     },
     "execution_count": 14,
     "metadata": {},
     "output_type": "execute_result"
    }
   ],
   "source": [
    "CategoricalCrossentropy(y_hat, y)"
   ]
  },
  {
   "cell_type": "code",
   "execution_count": 4,
   "metadata": {},
   "outputs": [],
   "source": [
    "def CategoricalCrossentropy(y_hat, y_true):\n",
    "        \n",
    "    m = y_true.shape[1]\n",
    "\n",
    "    epsilon = 1e-07\n",
    "    # y_hat and y_true (1, m)\n",
    "    cce = np.sum(y_true * np.log(y_hat + epsilon), axis=0)\n",
    "\n",
    "    cce = (-1.0 / m) * np.sum(cce)\n",
    "    return cce"
   ]
  },
  {
   "cell_type": "code",
   "execution_count": 16,
   "metadata": {},
   "outputs": [],
   "source": [
    "\n",
    "# Activation Functions\n",
    "# TODO: IMPLEMENTAR CATEGORICAL CROSS ENTROPY\n",
    "def tanh(x):\n",
    "    return np.tanh(x)\n",
    "\n",
    "def d_tanh(x):\n",
    "    return 1 - np.square(np.tanh(x))\n",
    "\n",
    "def sigmoid(x):\n",
    "    return 1/(1 + np.exp(-x))\n",
    "\n",
    "def softmax(x):\n",
    "    return np.exp(x)/np.exp(x).sum()\n",
    "\n",
    "def d_sigmoid(x):\n",
    "    return (1 - sigmoid(x)) * sigmoid(x)\n",
    "\n",
    "# Loss Functions \n",
    "def logloss(y, a):\n",
    "    return -(y*np.log(a) + (1-y)*np.log(1-a))\n",
    "\n",
    "def d_logloss(y, a):\n",
    "    return (a - y)/(a*(1 - a))"
   ]
  },
  {
   "cell_type": "code",
   "execution_count": 17,
   "metadata": {},
   "outputs": [],
   "source": [
    "# The layer class\n",
    "class Layer:\n",
    "\n",
    "    activationFunctions = {\n",
    "        'tanh': (tanh, d_tanh),\n",
    "        'sigmoid': (sigmoid, d_sigmoid),\n",
    "        'softmax':(softmax, d_sigmoid)\n",
    "    }\n",
    "    learning_rate = 0.1\n",
    "\n",
    "    def __init__(self, inputs, neurons, activation):\n",
    "        self.W = np.random.randn(neurons, inputs)\n",
    "        self.b = np.zeros((neurons, 1))\n",
    "        self.act, self.d_act = self.activationFunctions.get(activation)\n",
    "        self.shpW = self.W.shape\n",
    "        self.shpb = self.b.shape\n",
    "        \n",
    "\n",
    "    def feedforward(self, A_prev):\n",
    "        self.A_prev = A_prev\n",
    "        self.Z = np.dot(self.W, self.A_prev) + self.b\n",
    "        self.A = self.act(self.Z)\n",
    "        return self.A\n",
    "\n",
    "    def backprop(self, dA):\n",
    "        dZ = np.multiply(self.d_act(self.Z), dA)\n",
    "        dW = 1/dZ.shape[1] * np.dot(dZ, self.A_prev.T)\n",
    "        db = 1/dZ.shape[1] * np.sum(dZ, axis=1, keepdims=True)\n",
    "        dA_prev = np.dot(self.W.T, dZ)\n",
    "\n",
    "        self.W = self.W - self.learning_rate * dW\n",
    "        self.b = self.b - self.learning_rate * db\n",
    "\n",
    "        return dA_prev"
   ]
  },
  {
   "cell_type": "markdown",
   "metadata": {},
   "source": [
    "# ES"
   ]
  },
  {
   "cell_type": "code",
   "execution_count": 6,
   "metadata": {},
   "outputs": [],
   "source": [
    "def mutation(filho, a):\n",
    "    for i in range(len(filho)):\n",
    "        filho[i] += np.random.normal(0, a, size=filho[i].shape)\n",
    "    return filho\n",
    "\n",
    "def marriage(pais,p):\n",
    "    \"\"\"\n",
    "    Escolhe os pais para o casamento\n",
    "    \n",
    "    Params:\n",
    "        - pais: população de pais\n",
    "        - p: numero de pais escolhidos para o casamento\n",
    "    return:\n",
    "        - pais_escolhidos: lista de pais escolhidos\n",
    "        - indices_pais: indices dos pais escolhidos\n",
    "    \"\"\"\n",
    "    # indice dos pais\n",
    "    pais_ids = np.arange(0,len(pais))\n",
    "    # escolha p idices aleatorioamente\n",
    "    indices_pais = np.random.choice(pais_ids,size=p, replace=False)\n",
    "    # seleciona os p pais referentes aos indices\n",
    "    pais_escolhidos = [pais[i] for i in indices_pais]\n",
    "\n",
    "    return pais_escolhidos\n",
    "\n",
    "def recombination(pais):\n",
    "    filho = [np.zeros_like(p) for p in pais[0]]\n",
    "    n_layers = len(pais[0])\n",
    "    for l in range(n_layers):\n",
    "\n",
    "        j = np.random.randint(0, len(pais))\n",
    "        pai = pais[j][l] \n",
    "        # se for a ultima camada       \n",
    "        if (l==n_layers-1):\n",
    "            # percorre vetores de pesos da ultima camada\n",
    "            for c in range(len(filho[l])):\n",
    "                # percorre valores, exceto bias\n",
    "                for ci in range(len(filho[l][c])-1):\n",
    "                    a = pai[c][:-1]\n",
    "                    filho[l][c][ci] = np.random.choice(a)\n",
    "                filho[l][c][-1] = pai[c][-1]\n",
    "        else:\n",
    "            for i in range(len(filho[l])-1):\n",
    "                # a ultima coluna é o bias\n",
    "                k = np.random.randint(0, filho[l].shape[1]-1)\n",
    "                filho[l][:, i] = pai[:, k]\n",
    "            filho[l][:, -1] = pai[:, -1]\n",
    "    return filho"
   ]
  },
  {
   "cell_type": "code",
   "execution_count": 27,
   "metadata": {},
   "outputs": [],
   "source": [
    "#layers = [Layer(2, 3, 'tanh'), Layer(1, 3, 'softmax')]\n",
    "layers = [Layer(2, 3, 'tanh')]"
   ]
  },
  {
   "cell_type": "code",
   "execution_count": null,
   "metadata": {},
   "outputs": [],
   "source": []
  },
  {
   "cell_type": "code",
   "execution_count": 26,
   "metadata": {},
   "outputs": [
    {
     "data": {
      "text/plain": [
       "array([[0.12640572, 0.11904442, 0.25454986],\n",
       "       [0.12640572, 0.11904442, 0.25454986]])"
      ]
     },
     "execution_count": 26,
     "metadata": {},
     "output_type": "execute_result"
    }
   ],
   "source": [
    "softmax(np.array([[0.1, 0.04, 0.8],[0.1, 0.04, 0.8]]))"
   ]
  },
  {
   "cell_type": "code",
   "execution_count": 261,
   "metadata": {},
   "outputs": [],
   "source": [
    "def initialize_population(layers,n):\n",
    "    population = []\n",
    "    for i in range(n):\n",
    "        network = []\n",
    "        for layer in layers:\n",
    "            neurons, inputs =  layer.shpW\n",
    "            W = np.random.randn(neurons, inputs)\n",
    "            b = np.zeros((neurons, 1))\n",
    "            p = np.concatenate([W,b], axis=1)\n",
    "            network.append(p)\n",
    "        population.append(network)\n",
    "    return population\n",
    "\n",
    "def eval_individual(individual, net_layers, x_train, y_train):\n",
    "    A = x_train\n",
    "    lim_w = net_layers[0].W.shape[1]\n",
    "    lim_wo = net_layers[-1].W.shape[1]\n",
    "    # atualiza w da camada\n",
    "    #assert(layers[0].shpW[0] == x_train.shape[0])\n",
    "    for i in range(len(net_layers)):\n",
    "        layer = net_layers[i]        \n",
    "        # se for a ultima camada\n",
    "        if i == len(net_layers)-1:\n",
    "            layer.W = individual[i][:, :lim_wo]            \n",
    "            layer.b = individual[i][:, lim_wo:]\n",
    "            A = layer.feedforward(A)\n",
    "        else:\n",
    "            layer.W = individual[i][:, :lim_w]\n",
    "            layer.b = individual[i][:, -1:]\n",
    "            A = layer.feedforward(A)\n",
    "        \n",
    "    \n",
    "    #cost = 1/m * np.sum(logloss(y_train, A))\n",
    "    cost = mse(y_train, A)\n",
    "    # #costs.append(cost)\n",
    "    return cost  "
   ]
  },
  {
   "cell_type": "code",
   "execution_count": 10,
   "metadata": {},
   "outputs": [],
   "source": [
    "dataset = np.array([[2.7810836,2.550537003,0],\n",
    "\t[1.465489372,2.362125076,0],\n",
    "\t[3.396561688,4.400293529,0],\n",
    "\t[1.38807019,1.850220317,0],\n",
    "\t[3.06407232,3.005305973,0],\n",
    "\t[7.627531214,2.759262235,1],\n",
    "\t[5.332441248,2.088626775,1],\n",
    "\t[6.922596716,1.77106367,1],\n",
    "\t[8.675418651,-0.242068655,1],\n",
    "\t[7.673756466,3.508563011,1]])"
   ]
  },
  {
   "cell_type": "code",
   "execution_count": 11,
   "metadata": {},
   "outputs": [],
   "source": [
    "x_train = dataset[:, :2]\n",
    "x_train = x_train.T\n",
    "yy_train = dataset[:,-1]"
   ]
  },
  {
   "cell_type": "code",
   "execution_count": 12,
   "metadata": {},
   "outputs": [],
   "source": [
    "y_train = np.array([yy_train]) # 1 x m"
   ]
  },
  {
   "cell_type": "code",
   "execution_count": 228,
   "metadata": {},
   "outputs": [
    {
     "data": {
      "text/plain": [
       "(10,)"
      ]
     },
     "execution_count": 228,
     "metadata": {},
     "output_type": "execute_result"
    }
   ],
   "source": [
    "yy_train.shape"
   ]
  },
  {
   "cell_type": "markdown",
   "metadata": {},
   "source": [
    "# training"
   ]
  },
  {
   "cell_type": "code",
   "execution_count": 9,
   "metadata": {},
   "outputs": [],
   "source": [
    "\n",
    "def train_nn(x_train=None, y_train=None, epochs=50, layers=[], mu=20, lam=60, p=2, a=0.15, lograte=10):\n",
    "    costs = [] # to plot graph\n",
    "    best, best_score = None, np.inf\n",
    "    population = initialize_population(layers, mu)\n",
    "    for epoch in range(epochs):\n",
    "        children = list()\n",
    "        scores_children = list()\n",
    "        for l in range(lam):\n",
    "            pais_marriage = marriage(population, p)\n",
    "            filho = recombination(pais_marriage)\n",
    "            filho = mutation(filho, a)\n",
    "            score_filho = eval_individual(filho, layers, x_train, y_train)\n",
    "            if (score_filho<best_score):\n",
    "                best_score = score_filho\n",
    "                best = filho\n",
    "            scores_children.append(score_filho)\n",
    "            children.append(filho)\n",
    "        ranks = np.argsort(scores_children)\n",
    "        population = [children[ranks[k]] for k,_ in enumerate(ranks[:mu])]\n",
    "        if epoch%lograte==0:\n",
    "            print (\"Epoch={} bestscore={:.3f}\".format(epoch, best_score))\n",
    "    return best\n",
    "        \n",
    "def set_weights(weights, net_layers):\n",
    "    lim_w = net_layers[0].W.shape[1]\n",
    "    lim_wo = net_layers[-1].W.shape[1]\n",
    "    for i in range(len(net_layers)):\n",
    "        layer = net_layers[i]        \n",
    "        # se for a ultima camada\n",
    "        if i == len(net_layers)-1:\n",
    "            layer.W = weights[i][:, :lim_wo]            \n",
    "            layer.b = weights[i][:, lim_wo:]\n",
    "        else:\n",
    "            layer.W = weights[i][:, :lim_w]\n",
    "            layer.b = weights[i][:, -1:]\n",
    "\n",
    "def predict(x_train, layers, weights=None):\n",
    "    # Making predictions\n",
    "    A = x_train\n",
    "    if (weights):\n",
    "        set_weights(weights, layers)\n",
    "    for layer in layers:\n",
    "        A = layer.feedforward(A)\n",
    "    return A"
   ]
  },
  {
   "cell_type": "code",
   "execution_count": 304,
   "metadata": {},
   "outputs": [
    {
     "data": {
      "text/plain": [
       "2"
      ]
     },
     "execution_count": 304,
     "metadata": {},
     "output_type": "execute_result"
    }
   ],
   "source": [
    "np.argmax(softmax([0, 0.5, 1]))"
   ]
  },
  {
   "cell_type": "markdown",
   "metadata": {},
   "source": [
    "# Multicategorical\n",
    "\n",
    "- usar relu na primeira camada\n",
    "- usar softmax na ultima camada com n_outputs=n_classes\n",
    "- a saida da ultima camada deve ser transposta"
   ]
  },
  {
   "cell_type": "code",
   "execution_count": 32,
   "metadata": {},
   "outputs": [],
   "source": [
    "layers = [Layer(2, 3, 'tanh'), Layer(3, 3, 'softmax')]\n",
    "y_hat = np.argmax(predict(x_train, layers).T, axis=1)"
   ]
  },
  {
   "cell_type": "code",
   "execution_count": 38,
   "metadata": {},
   "outputs": [],
   "source": []
  },
  {
   "cell_type": "code",
   "execution_count": 40,
   "metadata": {},
   "outputs": [
    {
     "data": {
      "text/plain": [
       "0.5"
      ]
     },
     "execution_count": 40,
     "metadata": {},
     "output_type": "execute_result"
    }
   ],
   "source": [
    "mse(y_hat, y_train)"
   ]
  },
  {
   "cell_type": "code",
   "execution_count": 274,
   "metadata": {},
   "outputs": [],
   "source": [
    "m = 10\n",
    "# definição da estrutura da rede\n",
    "layers = [Layer(2, 3, 'tanh'), Layer(3, 1, 'sigmoid')]\n"
   ]
  },
  {
   "cell_type": "code",
   "execution_count": 251,
   "metadata": {},
   "outputs": [
    {
     "name": "stdout",
     "output_type": "stream",
     "text": [
      "Epoch=0 bestscore=0.183\n",
      "Epoch=10 bestscore=0.174\n",
      "Epoch=20 bestscore=0.107\n",
      "Epoch=30 bestscore=0.107\n",
      "Epoch=40 bestscore=0.069\n",
      "Epoch=50 bestscore=0.056\n",
      "Epoch=60 bestscore=0.056\n",
      "Epoch=70 bestscore=0.051\n",
      "Epoch=80 bestscore=0.024\n",
      "Epoch=90 bestscore=0.013\n",
      "Epoch=100 bestscore=0.013\n",
      "Epoch=110 bestscore=0.013\n",
      "Epoch=120 bestscore=0.013\n",
      "Epoch=130 bestscore=0.013\n",
      "Epoch=140 bestscore=0.013\n"
     ]
    }
   ],
   "source": [
    "best = train_nn(x_train=x_train, y_train=y_train, epochs=150, layers=layers, mu=20, lam=80, p=2, a=0.15)"
   ]
  },
  {
   "cell_type": "code",
   "execution_count": 167,
   "metadata": {},
   "outputs": [
    {
     "name": "stdout",
     "output_type": "stream",
     "text": [
      "[[0.05374989 0.00358972 0.00865499 0.00738564 0.04367041 0.9695276\n",
      "  0.89824152 0.97560667 0.99034849 0.94558455]]\n"
     ]
    }
   ],
   "source": [
    "predict(x_train, layers, best)"
   ]
  },
  {
   "cell_type": "code",
   "execution_count": 278,
   "metadata": {},
   "outputs": [
    {
     "data": {
      "text/plain": [
       "array([[ 0.59123459,  0.45565665],\n",
       "       [-0.21885318, -0.85219604],\n",
       "       [ 0.76345889, -0.0843669 ]])"
      ]
     },
     "execution_count": 278,
     "metadata": {},
     "output_type": "execute_result"
    }
   ],
   "source": [
    "import copy\n",
    "# mantem os valores originais\n",
    "temp_layers = copy.deepcopy(layers)\n",
    "temp_layers[0].W"
   ]
  },
  {
   "cell_type": "code",
   "execution_count": 259,
   "metadata": {},
   "outputs": [],
   "source": [
    "y = np.array([1, 2, 3])\n",
    "y_hat = np.array([1,2,3])"
   ]
  },
  {
   "cell_type": "code",
   "execution_count": 260,
   "metadata": {},
   "outputs": [
    {
     "data": {
      "text/plain": [
       "0.0"
      ]
     },
     "execution_count": 260,
     "metadata": {},
     "output_type": "execute_result"
    }
   ],
   "source": [
    "mse(y, y_hat)"
   ]
  },
  {
   "cell_type": "code",
   "execution_count": 212,
   "metadata": {},
   "outputs": [],
   "source": [
    "import pandas as pd"
   ]
  },
  {
   "cell_type": "code",
   "execution_count": 214,
   "metadata": {},
   "outputs": [
    {
     "data": {
      "text/html": [
       "<div>\n",
       "<style scoped>\n",
       "    .dataframe tbody tr th:only-of-type {\n",
       "        vertical-align: middle;\n",
       "    }\n",
       "\n",
       "    .dataframe tbody tr th {\n",
       "        vertical-align: top;\n",
       "    }\n",
       "\n",
       "    .dataframe thead th {\n",
       "        text-align: right;\n",
       "    }\n",
       "</style>\n",
       "<table border=\"1\" class=\"dataframe\">\n",
       "  <thead>\n",
       "    <tr style=\"text-align: right;\">\n",
       "      <th></th>\n",
       "      <th>0</th>\n",
       "      <th>1</th>\n",
       "      <th>2</th>\n",
       "      <th>3</th>\n",
       "      <th>4</th>\n",
       "      <th>5</th>\n",
       "      <th>6</th>\n",
       "      <th>7</th>\n",
       "    </tr>\n",
       "  </thead>\n",
       "  <tbody>\n",
       "    <tr>\n",
       "      <th>0</th>\n",
       "      <td>15.26</td>\n",
       "      <td>14.84</td>\n",
       "      <td>0.8710</td>\n",
       "      <td>5.763</td>\n",
       "      <td>3.312</td>\n",
       "      <td>2.221</td>\n",
       "      <td>5.220</td>\n",
       "      <td>1</td>\n",
       "    </tr>\n",
       "    <tr>\n",
       "      <th>1</th>\n",
       "      <td>14.88</td>\n",
       "      <td>14.57</td>\n",
       "      <td>0.8811</td>\n",
       "      <td>5.554</td>\n",
       "      <td>3.333</td>\n",
       "      <td>1.018</td>\n",
       "      <td>4.956</td>\n",
       "      <td>1</td>\n",
       "    </tr>\n",
       "    <tr>\n",
       "      <th>2</th>\n",
       "      <td>14.29</td>\n",
       "      <td>14.09</td>\n",
       "      <td>0.9050</td>\n",
       "      <td>5.291</td>\n",
       "      <td>3.337</td>\n",
       "      <td>2.699</td>\n",
       "      <td>4.825</td>\n",
       "      <td>1</td>\n",
       "    </tr>\n",
       "    <tr>\n",
       "      <th>3</th>\n",
       "      <td>13.84</td>\n",
       "      <td>13.94</td>\n",
       "      <td>0.8955</td>\n",
       "      <td>5.324</td>\n",
       "      <td>3.379</td>\n",
       "      <td>2.259</td>\n",
       "      <td>4.805</td>\n",
       "      <td>1</td>\n",
       "    </tr>\n",
       "    <tr>\n",
       "      <th>4</th>\n",
       "      <td>16.14</td>\n",
       "      <td>14.99</td>\n",
       "      <td>0.9034</td>\n",
       "      <td>5.658</td>\n",
       "      <td>3.562</td>\n",
       "      <td>1.355</td>\n",
       "      <td>5.175</td>\n",
       "      <td>1</td>\n",
       "    </tr>\n",
       "  </tbody>\n",
       "</table>\n",
       "</div>"
      ],
      "text/plain": [
       "       0      1       2      3      4      5      6  7\n",
       "0  15.26  14.84  0.8710  5.763  3.312  2.221  5.220  1\n",
       "1  14.88  14.57  0.8811  5.554  3.333  1.018  4.956  1\n",
       "2  14.29  14.09  0.9050  5.291  3.337  2.699  4.825  1\n",
       "3  13.84  13.94  0.8955  5.324  3.379  2.259  4.805  1\n",
       "4  16.14  14.99  0.9034  5.658  3.562  1.355  5.175  1"
      ]
     },
     "execution_count": 214,
     "metadata": {},
     "output_type": "execute_result"
    }
   ],
   "source": [
    "wheat_seeds = pd.read_csv(\"wheat-seeds.csv\", header=None)\n",
    "wheat_seeds.head()"
   ]
  },
  {
   "cell_type": "code",
   "execution_count": 245,
   "metadata": {},
   "outputs": [
    {
     "data": {
      "text/html": [
       "<div>\n",
       "<style scoped>\n",
       "    .dataframe tbody tr th:only-of-type {\n",
       "        vertical-align: middle;\n",
       "    }\n",
       "\n",
       "    .dataframe tbody tr th {\n",
       "        vertical-align: top;\n",
       "    }\n",
       "\n",
       "    .dataframe thead th {\n",
       "        text-align: right;\n",
       "    }\n",
       "</style>\n",
       "<table border=\"1\" class=\"dataframe\">\n",
       "  <thead>\n",
       "    <tr style=\"text-align: right;\">\n",
       "      <th></th>\n",
       "      <th>0</th>\n",
       "      <th>1</th>\n",
       "      <th>2</th>\n",
       "      <th>3</th>\n",
       "      <th>4</th>\n",
       "      <th>5</th>\n",
       "      <th>6</th>\n",
       "      <th>7</th>\n",
       "    </tr>\n",
       "  </thead>\n",
       "  <tbody>\n",
       "    <tr>\n",
       "      <th>count</th>\n",
       "      <td>210.000000</td>\n",
       "      <td>210.000000</td>\n",
       "      <td>210.000000</td>\n",
       "      <td>210.000000</td>\n",
       "      <td>210.000000</td>\n",
       "      <td>210.000000</td>\n",
       "      <td>210.000000</td>\n",
       "      <td>210.000000</td>\n",
       "    </tr>\n",
       "    <tr>\n",
       "      <th>mean</th>\n",
       "      <td>14.847524</td>\n",
       "      <td>14.559286</td>\n",
       "      <td>0.870999</td>\n",
       "      <td>5.628533</td>\n",
       "      <td>3.258605</td>\n",
       "      <td>3.700201</td>\n",
       "      <td>5.408071</td>\n",
       "      <td>2.000000</td>\n",
       "    </tr>\n",
       "    <tr>\n",
       "      <th>std</th>\n",
       "      <td>2.909699</td>\n",
       "      <td>1.305959</td>\n",
       "      <td>0.023629</td>\n",
       "      <td>0.443063</td>\n",
       "      <td>0.377714</td>\n",
       "      <td>1.503557</td>\n",
       "      <td>0.491480</td>\n",
       "      <td>0.818448</td>\n",
       "    </tr>\n",
       "    <tr>\n",
       "      <th>min</th>\n",
       "      <td>10.590000</td>\n",
       "      <td>12.410000</td>\n",
       "      <td>0.808100</td>\n",
       "      <td>4.899000</td>\n",
       "      <td>2.630000</td>\n",
       "      <td>0.765100</td>\n",
       "      <td>4.519000</td>\n",
       "      <td>1.000000</td>\n",
       "    </tr>\n",
       "    <tr>\n",
       "      <th>25%</th>\n",
       "      <td>12.270000</td>\n",
       "      <td>13.450000</td>\n",
       "      <td>0.856900</td>\n",
       "      <td>5.262250</td>\n",
       "      <td>2.944000</td>\n",
       "      <td>2.561500</td>\n",
       "      <td>5.045000</td>\n",
       "      <td>1.000000</td>\n",
       "    </tr>\n",
       "    <tr>\n",
       "      <th>50%</th>\n",
       "      <td>14.355000</td>\n",
       "      <td>14.320000</td>\n",
       "      <td>0.873450</td>\n",
       "      <td>5.523500</td>\n",
       "      <td>3.237000</td>\n",
       "      <td>3.599000</td>\n",
       "      <td>5.223000</td>\n",
       "      <td>2.000000</td>\n",
       "    </tr>\n",
       "    <tr>\n",
       "      <th>75%</th>\n",
       "      <td>17.305000</td>\n",
       "      <td>15.715000</td>\n",
       "      <td>0.887775</td>\n",
       "      <td>5.979750</td>\n",
       "      <td>3.561750</td>\n",
       "      <td>4.768750</td>\n",
       "      <td>5.877000</td>\n",
       "      <td>3.000000</td>\n",
       "    </tr>\n",
       "    <tr>\n",
       "      <th>max</th>\n",
       "      <td>21.180000</td>\n",
       "      <td>17.250000</td>\n",
       "      <td>0.918300</td>\n",
       "      <td>6.675000</td>\n",
       "      <td>4.033000</td>\n",
       "      <td>8.456000</td>\n",
       "      <td>6.550000</td>\n",
       "      <td>3.000000</td>\n",
       "    </tr>\n",
       "  </tbody>\n",
       "</table>\n",
       "</div>"
      ],
      "text/plain": [
       "                0           1           2           3           4           5  \\\n",
       "count  210.000000  210.000000  210.000000  210.000000  210.000000  210.000000   \n",
       "mean    14.847524   14.559286    0.870999    5.628533    3.258605    3.700201   \n",
       "std      2.909699    1.305959    0.023629    0.443063    0.377714    1.503557   \n",
       "min     10.590000   12.410000    0.808100    4.899000    2.630000    0.765100   \n",
       "25%     12.270000   13.450000    0.856900    5.262250    2.944000    2.561500   \n",
       "50%     14.355000   14.320000    0.873450    5.523500    3.237000    3.599000   \n",
       "75%     17.305000   15.715000    0.887775    5.979750    3.561750    4.768750   \n",
       "max     21.180000   17.250000    0.918300    6.675000    4.033000    8.456000   \n",
       "\n",
       "                6           7  \n",
       "count  210.000000  210.000000  \n",
       "mean     5.408071    2.000000  \n",
       "std      0.491480    0.818448  \n",
       "min      4.519000    1.000000  \n",
       "25%      5.045000    1.000000  \n",
       "50%      5.223000    2.000000  \n",
       "75%      5.877000    3.000000  \n",
       "max      6.550000    3.000000  "
      ]
     },
     "execution_count": 245,
     "metadata": {},
     "output_type": "execute_result"
    }
   ],
   "source": [
    "wheat_seeds.describe()"
   ]
  },
  {
   "cell_type": "code",
   "execution_count": 215,
   "metadata": {},
   "outputs": [
    {
     "data": {
      "text/plain": [
       "1    70\n",
       "2    70\n",
       "3    70\n",
       "Name: 7, dtype: int64"
      ]
     },
     "execution_count": 215,
     "metadata": {},
     "output_type": "execute_result"
    }
   ],
   "source": [
    "wheat_seeds[7].value_counts()"
   ]
  },
  {
   "cell_type": "code",
   "execution_count": 289,
   "metadata": {},
   "outputs": [],
   "source": [
    "dataset = wheat_seeds.values[:, :-1]\n",
    "labels = wheat_seeds.values[:, -1]\n",
    "\n",
    "#y_train = np.array([y_train])\n",
    "\n",
    "m = dataset.shape[1]"
   ]
  },
  {
   "cell_type": "code",
   "execution_count": 320,
   "metadata": {},
   "outputs": [],
   "source": [
    "# definição da estrutura da rede\n",
    "layers = [Layer(7, 3, 'sigmoid'), Layer(3, 1, 'softmax')]"
   ]
  },
  {
   "cell_type": "code",
   "execution_count": 286,
   "metadata": {},
   "outputs": [],
   "source": [
    "from sklearn.preprocessing import MinMaxScaler\n",
    "from sklearn.model_selection import train_test_split"
   ]
  },
  {
   "cell_type": "code",
   "execution_count": 311,
   "metadata": {},
   "outputs": [],
   "source": [
    "X_train, X_test, y_train, y_teste = train_test_split(dataset, labels, test_size=0.1, random_state=42)"
   ]
  },
  {
   "cell_type": "code",
   "execution_count": 312,
   "metadata": {},
   "outputs": [],
   "source": [
    "X_train = MinMaxScaler().fit_transform(X_train)\n",
    "X_train = X_train.T"
   ]
  },
  {
   "cell_type": "code",
   "execution_count": 313,
   "metadata": {},
   "outputs": [],
   "source": [
    "X_test = MinMaxScaler().fit_transform(X_test)\n",
    "X_test = X_test.T"
   ]
  },
  {
   "cell_type": "code",
   "execution_count": 314,
   "metadata": {},
   "outputs": [],
   "source": [
    "y_train = y_train - 1\n",
    "y_train = np.array([y_train])"
   ]
  },
  {
   "cell_type": "code",
   "execution_count": 315,
   "metadata": {},
   "outputs": [
    {
     "data": {
      "text/plain": [
       "array([[0., 2., 1., 1., 2., 0., 1., 0., 2., 2., 0., 1., 0., 1., 1., 2.,\n",
       "        1., 1., 2., 2., 2., 2., 1., 2., 0., 2., 1., 1., 0., 0., 2., 1.,\n",
       "        0., 0., 1., 1., 0., 0., 0., 2., 0., 1., 1., 1., 2., 2., 0., 0.,\n",
       "        0., 0., 0., 1., 1., 2., 0., 1., 2., 1., 0., 2., 1., 1., 0., 2.,\n",
       "        2., 1., 0., 1., 0., 1., 1., 1., 1., 2., 0., 1., 0., 0., 1., 1.,\n",
       "        0., 0., 2., 2., 0., 0., 2., 2., 2., 0., 0., 1., 2., 1., 2., 1.,\n",
       "        0., 0., 2., 2., 2., 0., 2., 2., 1., 2., 0., 0., 1., 0., 1., 0.,\n",
       "        2., 2., 1., 0., 2., 0., 1., 2., 0., 2., 0., 1., 0., 1., 2., 2.,\n",
       "        2., 0., 1., 0., 0., 1., 1., 1., 2., 2., 1., 0., 0., 0., 2., 1.,\n",
       "        0., 2., 1., 2., 1., 2., 2., 0., 0., 1., 0., 2., 2., 2., 0., 0.,\n",
       "        1., 0., 0., 2., 2., 1., 0., 2., 2., 0., 0., 2., 1., 2., 1., 1.,\n",
       "        1., 1., 1., 1., 2., 0., 2., 1., 1., 0., 1., 2., 1.]])"
      ]
     },
     "execution_count": 315,
     "metadata": {},
     "output_type": "execute_result"
    }
   ],
   "source": [
    "y_train"
   ]
  },
  {
   "cell_type": "code",
   "execution_count": 323,
   "metadata": {},
   "outputs": [
    {
     "name": "stdout",
     "output_type": "stream",
     "text": [
      "Epoch=0 bestscore=1.617\n",
      "Epoch=10 bestscore=1.614\n",
      "Epoch=20 bestscore=1.611\n",
      "Epoch=30 bestscore=1.609\n",
      "Epoch=40 bestscore=1.609\n",
      "Epoch=50 bestscore=1.609\n",
      "Epoch=60 bestscore=1.609\n",
      "Epoch=70 bestscore=1.609\n",
      "Epoch=80 bestscore=1.609\n",
      "Epoch=90 bestscore=1.609\n",
      "Epoch=100 bestscore=1.609\n",
      "Epoch=110 bestscore=1.609\n",
      "Epoch=120 bestscore=1.609\n",
      "Epoch=130 bestscore=1.609\n",
      "Epoch=140 bestscore=1.609\n"
     ]
    }
   ],
   "source": [
    "best = train_nn(x_train=X_train, y_train=y_train, epochs=150, layers=layers, mu=20, lam=80, p=2, a=0.3)"
   ]
  },
  {
   "cell_type": "code",
   "execution_count": 331,
   "metadata": {},
   "outputs": [],
   "source": [
    "y_pred = predict(X_test, layers, best)"
   ]
  },
  {
   "cell_type": "code",
   "execution_count": 337,
   "metadata": {},
   "outputs": [
    {
     "data": {
      "text/plain": [
       "5.277854969268684e-08"
      ]
     },
     "execution_count": 337,
     "metadata": {},
     "output_type": "execute_result"
    }
   ],
   "source": [
    "y_pred[0][2]"
   ]
  },
  {
   "cell_type": "code",
   "execution_count": 335,
   "metadata": {},
   "outputs": [
    {
     "data": {
      "text/plain": [
       "array([1., 3., 2., 3., 1., 3., 1., 3., 1., 3., 2., 3., 3., 2., 1., 2., 3.,\n",
       "       1., 3., 2., 2.])"
      ]
     },
     "execution_count": 335,
     "metadata": {},
     "output_type": "execute_result"
    }
   ],
   "source": [
    "y_teste"
   ]
  },
  {
   "cell_type": "code",
   "execution_count": null,
   "metadata": {},
   "outputs": [],
   "source": []
  }
 ],
 "metadata": {
  "interpreter": {
   "hash": "31f2aee4e71d21fbe5cf8b01ff0e069b9275f58929596ceb00d14d90e3e16cd6"
  },
  "kernelspec": {
   "display_name": "Python 3.9.2 64-bit",
   "language": "python",
   "name": "python3"
  },
  "language_info": {
   "codemirror_mode": {
    "name": "ipython",
    "version": 3
   },
   "file_extension": ".py",
   "mimetype": "text/x-python",
   "name": "python",
   "nbconvert_exporter": "python",
   "pygments_lexer": "ipython3",
   "version": "3.9.2"
  },
  "orig_nbformat": 4
 },
 "nbformat": 4,
 "nbformat_minor": 2
}
